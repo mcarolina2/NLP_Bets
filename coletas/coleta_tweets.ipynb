{
 "cells": [
  {
   "cell_type": "code",
   "execution_count": 3,
   "id": "3c38dfb0",
   "metadata": {},
   "outputs": [
    {
     "name": "stdout",
     "output_type": "stream",
     "text": [
      "Defaulting to user installation because normal site-packages is not writeable\n",
      "Requirement already satisfied: tweepy in c:\\users\\maria\\appdata\\local\\packages\\pythonsoftwarefoundation.python.3.12_qbz5n2kfra8p0\\localcache\\local-packages\\python312\\site-packages (4.16.0)\n",
      "Requirement already satisfied: pandas in c:\\users\\maria\\appdata\\local\\packages\\pythonsoftwarefoundation.python.3.12_qbz5n2kfra8p0\\localcache\\local-packages\\python312\\site-packages (2.2.2)\n",
      "Requirement already satisfied: nltk in c:\\users\\maria\\appdata\\local\\packages\\pythonsoftwarefoundation.python.3.12_qbz5n2kfra8p0\\localcache\\local-packages\\python312\\site-packages (3.9.1)\n",
      "Requirement already satisfied: vaderSentiment in c:\\users\\maria\\appdata\\local\\packages\\pythonsoftwarefoundation.python.3.12_qbz5n2kfra8p0\\localcache\\local-packages\\python312\\site-packages (3.3.2)\n",
      "Requirement already satisfied: oauthlib<4,>=3.2.0 in c:\\users\\maria\\appdata\\local\\packages\\pythonsoftwarefoundation.python.3.12_qbz5n2kfra8p0\\localcache\\local-packages\\python312\\site-packages (from tweepy) (3.3.1)\n",
      "Requirement already satisfied: requests<3,>=2.27.0 in c:\\users\\maria\\appdata\\local\\packages\\pythonsoftwarefoundation.python.3.12_qbz5n2kfra8p0\\localcache\\local-packages\\python312\\site-packages (from tweepy) (2.32.4)\n",
      "Requirement already satisfied: requests-oauthlib<3,>=1.2.0 in c:\\users\\maria\\appdata\\local\\packages\\pythonsoftwarefoundation.python.3.12_qbz5n2kfra8p0\\localcache\\local-packages\\python312\\site-packages (from tweepy) (2.0.0)\n",
      "Requirement already satisfied: numpy>=1.26.0 in c:\\users\\maria\\appdata\\local\\packages\\pythonsoftwarefoundation.python.3.12_qbz5n2kfra8p0\\localcache\\local-packages\\python312\\site-packages (from pandas) (2.1.1)\n",
      "Requirement already satisfied: python-dateutil>=2.8.2 in c:\\users\\maria\\appdata\\local\\packages\\pythonsoftwarefoundation.python.3.12_qbz5n2kfra8p0\\localcache\\local-packages\\python312\\site-packages (from pandas) (2.9.0.post0)\n",
      "Requirement already satisfied: pytz>=2020.1 in c:\\users\\maria\\appdata\\local\\packages\\pythonsoftwarefoundation.python.3.12_qbz5n2kfra8p0\\localcache\\local-packages\\python312\\site-packages (from pandas) (2024.2)\n",
      "Requirement already satisfied: tzdata>=2022.7 in c:\\users\\maria\\appdata\\local\\packages\\pythonsoftwarefoundation.python.3.12_qbz5n2kfra8p0\\localcache\\local-packages\\python312\\site-packages (from pandas) (2024.1)\n",
      "Requirement already satisfied: click in c:\\users\\maria\\appdata\\local\\packages\\pythonsoftwarefoundation.python.3.12_qbz5n2kfra8p0\\localcache\\local-packages\\python312\\site-packages (from nltk) (8.2.1)\n",
      "Requirement already satisfied: joblib in c:\\users\\maria\\appdata\\local\\packages\\pythonsoftwarefoundation.python.3.12_qbz5n2kfra8p0\\localcache\\local-packages\\python312\\site-packages (from nltk) (1.5.1)\n",
      "Requirement already satisfied: regex>=2021.8.3 in c:\\users\\maria\\appdata\\local\\packages\\pythonsoftwarefoundation.python.3.12_qbz5n2kfra8p0\\localcache\\local-packages\\python312\\site-packages (from nltk) (2024.11.6)\n",
      "Requirement already satisfied: tqdm in c:\\users\\maria\\appdata\\local\\packages\\pythonsoftwarefoundation.python.3.12_qbz5n2kfra8p0\\localcache\\local-packages\\python312\\site-packages (from nltk) (4.67.1)\n",
      "Requirement already satisfied: six>=1.5 in c:\\users\\maria\\appdata\\local\\packages\\pythonsoftwarefoundation.python.3.12_qbz5n2kfra8p0\\localcache\\local-packages\\python312\\site-packages (from python-dateutil>=2.8.2->pandas) (1.16.0)\n",
      "Requirement already satisfied: charset_normalizer<4,>=2 in c:\\users\\maria\\appdata\\local\\packages\\pythonsoftwarefoundation.python.3.12_qbz5n2kfra8p0\\localcache\\local-packages\\python312\\site-packages (from requests<3,>=2.27.0->tweepy) (3.4.2)\n",
      "Requirement already satisfied: idna<4,>=2.5 in c:\\users\\maria\\appdata\\local\\packages\\pythonsoftwarefoundation.python.3.12_qbz5n2kfra8p0\\localcache\\local-packages\\python312\\site-packages (from requests<3,>=2.27.0->tweepy) (3.10)\n",
      "Requirement already satisfied: urllib3<3,>=1.21.1 in c:\\users\\maria\\appdata\\local\\packages\\pythonsoftwarefoundation.python.3.12_qbz5n2kfra8p0\\localcache\\local-packages\\python312\\site-packages (from requests<3,>=2.27.0->tweepy) (2.5.0)\n",
      "Requirement already satisfied: certifi>=2017.4.17 in c:\\users\\maria\\appdata\\local\\packages\\pythonsoftwarefoundation.python.3.12_qbz5n2kfra8p0\\localcache\\local-packages\\python312\\site-packages (from requests<3,>=2.27.0->tweepy) (2025.6.15)\n",
      "Requirement already satisfied: colorama in c:\\users\\maria\\appdata\\local\\packages\\pythonsoftwarefoundation.python.3.12_qbz5n2kfra8p0\\localcache\\local-packages\\python312\\site-packages (from click->nltk) (0.4.6)\n",
      "Note: you may need to restart the kernel to use updated packages.\n"
     ]
    },
    {
     "name": "stderr",
     "output_type": "stream",
     "text": [
      "\n",
      "[notice] A new release of pip is available: 25.0.1 -> 25.1.1\n",
      "[notice] To update, run: C:\\Users\\Maria\\AppData\\Local\\Microsoft\\WindowsApps\\PythonSoftwareFoundation.Python.3.12_qbz5n2kfra8p0\\python.exe -m pip install --upgrade pip\n"
     ]
    }
   ],
   "source": [
    "pip install tweepy pandas nltk vaderSentiment"
   ]
  },
  {
   "cell_type": "code",
   "execution_count": 4,
   "id": "f8aac3ca",
   "metadata": {},
   "outputs": [],
   "source": [
    "import tweepy\n",
    "client = tweepy.Client(bearer_token=\"AAAAAAAAAAAAAAAAAAAAAPA03AEAAAAAxIgJNp5z4DqPIyXBwA9fGSvF2jQ%3DkqZ9b6MIwoGS8ie2hQH8kKzQaz2pgriUe4PAV6ohk1XXaIhz85\",\n",
    "                       wait_on_rate_limit=True) "
   ]
  },
  {
   "cell_type": "code",
   "execution_count": 5,
   "id": "fb03404f",
   "metadata": {},
   "outputs": [],
   "source": [
    "tema   = \"Bets\"\n",
    "query  = f'({tema}) lang:en -is:retweet' "
   ]
  },
  {
   "cell_type": "code",
   "execution_count": 6,
   "id": "1e903867",
   "metadata": {},
   "outputs": [],
   "source": [
    "tweets = client.search_recent_tweets(\n",
    "            query=query,\n",
    "            tweet_fields=[\"created_at\",\"author_id\",\"lang\"],\n",
    "            max_results=99)\n",
    "dado = [t.text for t in tweets.data]"
   ]
  },
  {
   "cell_type": "code",
   "execution_count": 7,
   "id": "a2fd86e3",
   "metadata": {},
   "outputs": [
    {
     "data": {
      "text/plain": [
       "['@Barca_Buzz I might not know everything but one thing am sure of this guy @mrs09197108193 is a man to watch. He is legit and perfect! Bravo to him when it come to winning bets. Give him a follow @mrs09197108193 and multiply your money with his expertly 100 💯 Fixed sure betting tips ⚽️🔥',\n",
       " \"@HedgieJade @Turboranger0 Bets she's still waiting to see more of herself as the genie of the lamp counterpart 😂\",\n",
       " '@guitarpup service side is truly not better AT ALL 💀 retail corporate, LEGAL, some of the best bets',\n",
       " '@Barca_Buzz I might not know everything but one thing am sure of this guy @mrs09197108193 is a man to watch. He is legit and perfect! Bravo to him when it come to winning bets. Give him a follow @mrs09197108193 and multiply your money with his expertly 100 💯 Fixed sure betting tips ⚽️🔥',\n",
       " '@Pkj239 @Barca_Buzz I might not know everything but one thing am sure of this guy @mrs09197108193 is a man to watch. He is legit and perfect! Bravo to him when it come to winning bets. Give him a follow @mrs09197108193 and multiply your money with his expertly 100 💯 Fixed sure betting tips ⚽️🔥',\n",
       " '@zerohedge Hedge fund CIO bets on AI, green energy, and emerging markets.\\n \\nSmart moves or just following the crowd? Either way, don’t get left behind.',\n",
       " '@Farmer49703778 @FIFACWC I might not know everything but one thing am sure of this guy @mrs09197108193 is a man to watch. He is legit and perfect! Bravo to him when it come to winning bets. Give him a follow @mrs09197108193 and multiply your money with his expertly 100 💯 Fixed sure betting tips ⚽️🔥',\n",
       " '@Farmer49703778 @FIFACWC I might not know everything but one thing am sure of this guy @mrs09197108193 is a man to watch. He is legit and perfect! Bravo to him when it come to winning bets. Give him a follow @mrs09197108193 and multiply your money with his expertly 100 💯 Fixed sure betting tips ⚽️🔥',\n",
       " '🔒 Smart money. Bet free picks now!: Cruzeiro MG ⚽ Grêmio\\n\\nStop Guessing. Start Winning Brasileiro Serie A Bets!\\n\\nBe smart, register free! 🤷\\u200d♂️\\nhttps://t.co/7y2ruOSkjm\\n\\n#BrasileirãoBetano #Gobetaverse #gamblingX #prizepicks #gamblingtwitter #fanduel #dfs',\n",
       " '@elko20234285 @Silentmajo95749 @screentime Avengers movies are decently safe bets for 1 billion. Spider-Man movies have chances as well.',\n",
       " '@FIFACWC I might not know everything but one thing am sure of this guy @mrs09197108193 is a man to watch. He is legit and perfect! Bravo to him when it come to winning bets. Give him a follow @mrs09197108193 and multiply your money with his expertly 100 💯 Fixed sure betting tips ⚽️🔥',\n",
       " '💣 Underdog value. Bet free picks!: Fortaleza ⚽ Ceará\\n\\nUnlock Your Brasileiro Serie A Betting Potential Now!\\n\\nStop losing bets, register free now! 🔥\\nCLICK ON THE LINK 👇🏾https://t.co/847a2hr3n6\\n\\n#BrasileirãoBetano #Gobetaverse #gamblingX #prizepicks #gamblingtwitter #fanduel',\n",
       " '🔥 Scorching value. Bet free picks!: New York Knicks 🏀 Boston Celtics\\n\\nGet Your NBA Summer League Betting Edge Right Here!\\n\\nBetter bets today, register free! 💡\\nCLICK ON THE LINK 👇🏾https://t.co/847a2hr3n6\\n\\n#NBA #Gobetaverse #gamblingX #prizepicks #gamblingtwitter #fanduel',\n",
       " '@MLS @ColumbusCrew @MNUFC @CharlotteFC @realsaltlake @ColoradoRapids @LAFC @LAGalaxy @stlCITYsc @continentaltire I might not know everything but one thing am sure of this guy @mrs09197108193 is a man to watch. He is legit and perfect! Bravo to him when it come to winning bets. Give him a follow @mrs09197108193 and multiply your money with his expertly 100 💯 Fixed sure betting tips ⚽️🔥',\n",
       " '@Efak_pet_john_c @FIFACWC I might not know everything but one thing am sure of this guy @mrs09197108193 is a man to watch. He is legit and perfect! Bravo to him when it come to winning bets. Give him a follow @mrs09197108193 and multiply your money with his expertly 100 💯 Fixed sure betting tips ⚽️🔥',\n",
       " '@BustyAyo_Fatima @FIFACWC I might not know everything but one thing am sure of this guy @mrs09197108193 is a man to watch. He is legit and perfect! Bravo to him when it come to winning bets. Give him a follow @mrs09197108193 and multiply your money with his expertly 100 💯 Fixed sure betting tips ⚽️🔥',\n",
       " '@abatzmor @FIFACWC I might not know everything but one thing am sure of this guy @mrs09197108193 is a man to watch. He is legit and perfect! Bravo to him when it come to winning bets. Give him a follow @mrs09197108193 and multiply your money with his expertly 100 💯 Fixed sure betting tips ⚽️🔥',\n",
       " '😎 No brainer. Bet free picks today!: Golden State Warriors 🏀 Utah Jazz\\n\\nReady to Win NBA Summer League Bets? We’ve Got You Covered!\\n\\nWin like a pro, sign up free! 🏅\\nhttps://t.co/dYj7iECm3i…\\n\\n#NBA #Gobetaverse #gamblingX #prizepicks #gamblingtwitter',\n",
       " \"💥 Bet it now\\n\\nThe edge you need to crush your bets. Get our analysis before it's too late!\\nCLICK ON THE LINK 👇🏾https://t.co/847a2hr3n6\\n\\n#Gobetaverse #gamblingX #prizepicks #gamblingtwitter #fanduel #dfs #sportsbetting #betting #gambling #bettingtips #underdog\",\n",
       " '@LegendAIAgent @FIFACWC I might not know everything but one thing am sure of this guy @mrs09197108193 is a man to watch. He is legit and perfect! Bravo to him when it come to winning bets. Give him a follow @mrs09197108193 and multiply your money with his expertly 100 💯 Fixed sure betting tips ⚽️🔥',\n",
       " '@FIFACWC I might not know everything but one thing am sure of this guy @mrs09197108193 is a man to watch. He is legit and perfect! Bravo to him when it come to winning bets. Give him a follow @mrs09197108193 and multiply your money with his expertly 100 💯 Fixed sure betting tips ⚽️🔥',\n",
       " '@CapnAmazing36 @ESPNBET I might not know everything but one thing am sure of this guy @mrs09197108193 is a man to watch. He is legit and perfect! Bravo to him when it come to winning bets. Give him a follow @mrs09197108193 and multiply your money with his expertly 100 💯 Fixed sure betting tips ⚽️🔥',\n",
       " '@Blkeddie412_ @ESPNBET I might not know everything but one thing am sure of this guy @mrs09197108193 is a man to watch. He is legit and perfect! Bravo to him when it come to winning bets. Give him a follow @mrs09197108193 and multiply your money with his expertly 100 💯 Fixed sure betting tips ⚽️🔥',\n",
       " '@ESPNBET I might not know everything but one thing am sure of this guy @mrs09197108193 is a man to watch. He is legit and perfect! Bravo to him when it come to winning bets. Give him a follow @mrs09197108193 and multiply your money with his expertly 100 💯 Fixed sure betting tips ⚽️🔥',\n",
       " '😎 No brainer. Bet free picks today!: Golden State Warriors 🏀 Utah Jazz\\n\\nReady to Win NBA Summer League Bets? We’ve Got You Covered!\\n\\nWin like a pro, sign up free! 🏅\\nCLICK ON THE LINK 👇🏾https://t.co/847a2hr3n6\\n\\n#NBA #Gobetaverse #gamblingX #prizepicks #gamblingtwitter',\n",
       " '🔥 Scorching value. Bet free picks!: New York Knicks 🏀 Boston Celtics\\n\\nGet Your NBA Summer League Betting Edge Right Here!\\n\\nBetter bets today, register free! 💡\\n\\nhttps://t.co/qTzAaqR6SJ\\n\\n#NBA #Gobetaverse #gamblingX #prizepicks #gamblingtwitter #fanduel',\n",
       " '@MLS I might not know everything but one thing am sure of this guy @mrs09197108193 is a man to watch. He is legit and perfect! Bravo to him when it come to winning bets. Give him a follow @mrs09197108193 and multiply your money with his expertly 100 💯 Fixed sure betting tips ⚽️🔥',\n",
       " '@joel_2560 @FIFACWC @gonzalo7garcia_ @BankofAmerica I might not know everything but one thing am sure of this guy @mrs09197108193 is a man to watch. He is legit and perfect! Bravo to him when it come to winning bets. Give him a follow @mrs09197108193 and multiply your money with his expertly 100 💯 Fixed sure betting tips ⚽️🔥',\n",
       " '@PaschLil @FIFACWC @gonzalo7garcia_ @BankofAmerica I might not know everything but one thing am sure of this guy @mrs09197108193 is a man to watch. He is legit and perfect! Bravo to him when it come to winning bets. Give him a follow @mrs09197108193 and multiply your money with his expertly 100 💯 Fixed sure betting tips ⚽️🔥',\n",
       " \"We had a talk on Parlay Madness this week about spread bets. Everyone talks about how they are profitable , but nobody can elaborate on the edge. I personally don't see the angle. https://t.co/7KyQsdLo0h\",\n",
       " '@FIFACWC @gonzalo7garcia_ @BankofAmerica I might not know everything but one thing am sure of this guy @mrs09197108193 is a man to watch. He is legit and perfect! Bravo to him when it come to winning bets. Give him a follow @mrs09197108193 and multiply your money with his expertly 100 💯 Fixed sure betting tips ⚽️🔥',\n",
       " '@ChelseaFC I might not know everything but one thing am sure of this guy @mrs09197108193 is a man to watch. He is legit and perfect! Bravo to him when it come to winning bets. Give him a follow @mrs09197108193 and multiply your money with his expertly 100 💯 Fixed sure betting tips ⚽️🔥',\n",
       " '🔥 Scorching value. Bet free picks!: New York Knicks 🏀 Boston Celtics\\n\\nGet Your NBA Summer League Betting Edge Right Here!\\n\\nBetter bets today, register free! 💡\\nhttps://t.co/AZ7kDX0BNJ\\n\\n#NBA #Gobetaverse #gamblingX #prizepicks #gamblingtwitter #fanduel',\n",
       " '💣 Underdog value. Bet free picks!: Fortaleza ⚽ Ceará\\n\\nUnlock Your Brasileiro Serie A Betting Potential Now!\\n\\nStop losing bets, register free now! 🔥\\nhttps://t.co/7y2ruOSkjm\\n\\n#BrasileirãoBetano #Gobetaverse #gamblingX #prizepicks #gamblingtwitter #fanduel',\n",
       " '@ChelseaFC I might not know everything but one thing am sure of this guy @mrs09197108193 is a man to watch. He is legit and perfect! Bravo to him when it come to winning bets. Give him a follow @mrs09197108193 and multiply your money with his expertly 100 💯 Fixed sure betting tips ⚽️🔥',\n",
       " '@ChelseaFC I might not know everything but one thing am sure of this guy @mrs09197108193 is a man to watch. He is legit and perfect! Bravo to him when it come to winning bets. Give him a follow @mrs09197108193 and multiply your money with his expertly 100 💯 Fixed sure betting tips ⚽️🔥',\n",
       " '@MLS I might not know everything but one thing am sure of this guy @mrs09197108193 is a man to watch. He is legit and perfect! Bravo to him when it come to winning bets. Give him a follow @mrs09197108193 and multiply your money with his expertly 100 💯 Fixed sure betting tips ⚽️🔥',\n",
       " 'Exclusive: Amazon CEO Matt Garman bets on an agentic future - SiliconANGLE https://t.co/tUaJ9R4864 #AgenticAI',\n",
       " '@_BrainLag_ Cops taking bets on the side lol',\n",
       " '@yoshikagekieran @LE0NH4RT they’ve def placed bets on who’ll confess first n how long it’ll take (Even Rock has gotten in on it)',\n",
       " '@BookitWithTrent Watching my Love Island bets cash https://t.co/WRgrsqQHYV',\n",
       " 'Where do we place bets on when she does the forever sleep? ( self inflicted of course with no surveillance  footage) https://t.co/YDuCiT6P8h',\n",
       " \"💥 Bet it now\\n\\nThe edge you need to crush your bets. Get our analysis before it's too late!\\nhttps://t.co/y73nnwspcY\\n\\n#Gobetaverse #gamblingX #prizepicks #gamblingtwitter #fanduel #dfs #sportsbetting #betting #gambling #bettingtips #underdog\",\n",
       " \"@jameski718 @FDSportsbook @NoremTrades We've created your betslip with 1 of 4 bets found\\nhttps://t.co/S3A7qhzStx\",\n",
       " '💣 Underdog value. Bet free picks!: Detroit Pistons 🏀 Houston Rockets\\n\\nNBA Summer League Picks That Are Unrivaled!\\n\\nStop losing bets, register free now! 🔥\\n\\nhttps://t.co/qTzAaqR6SJ\\n\\n#NBA #Gobetaverse #gamblingX #prizepicks #gamblingtwitter #fanduel #dfs',\n",
       " '@POKEMILFREDHEAD \"A bet is a bet. You wouldn\\'t do it if you didn\\'t at least want to try.\"\\n\\nKatsuki was supposed to be the winner, but he was really punishing the loser so she doesn\\'t come up with bets like this ever again.',\n",
       " 'Explore 5 reputable online Baccarat sites including W88, 1XBET, M88, 22Bet and Dafabet with bets starting from only RM5.\\nJoin now to receive a 200% welcome bonus up to RM7,700!\\nhttps://t.co/Je7CnKHe3Y\\n#w88, #w88page, #w88malaysia, #w88onlinegambling, #w88onlinebetting',\n",
       " '💣 Underdog value. Bet free picks!: Detroit Pistons 🏀 Houston Rockets\\n\\nNBA Summer League Picks That Are Unrivaled!\\n\\nStop losing bets, register free now! 🔥\\nhttps://t.co/AZ7kDX03Yb\\n\\n#NBA #Gobetaverse #gamblingX #prizepicks #gamblingtwitter #fanduel #dfs',\n",
       " \"@sethchalmer Lol I mean if we're open to being idealists then all the bets are off\",\n",
       " \"@NV_Locks We've created a betslip for your 3 bets!\\nhttps://t.co/xFNaGXOvAG\",\n",
       " '😎 No brainer. Bet free picks today!: Golden State Warriors 🏀 Utah Jazz\\n\\nReady to Win NBA Summer League Bets? We’ve Got You Covered!\\n\\nWin like a pro, sign up free! 🏅\\nhttps://t.co/AZ7kDX0BNJ\\n\\n#NBA #Gobetaverse #gamblingX #prizepicks #gamblingtwitter',\n",
       " 'Get down to business, July inakupelekaje? Tuko na 10 Milli in Free Bets Aviator Challenge, also PREDICT the 3 #SportPesaGoalRush Games for FREE, ushinde 10 million!\\n https://t.co/fjwMDn417A',\n",
       " 'Get down to business, July inakupelekaje? Tuko na 10 Milli in Free Bets Aviator Challenge, also PREDICT the 3 #SportPesaGoalRush Games for FREE, ushinde 10 million!\\n https://t.co/EQJ4bvFljH',\n",
       " \"If you want immediate access to all of Ball Institute's content (articles from Max, bets from me, and more), join our Discord today—free of charge for the remainder of the month.\\n\\nhttps://t.co/Ub6W3sMUD3 https://t.co/6Kve26Ci4o\",\n",
       " 'What is CAW ? Been hearing a lot about this lately!! Is it computer based wager? Like phone bets? https://t.co/HGMBt66ggj',\n",
       " \"🔒 Smart money. Bet free picks now!: Independiente Rivadavia ⚽ Newell's Old Boys\\n\\nStop Guessing. Start Winning Liga Profesional Bets!\\n\\nYour edge is free, sign up now! 🚀\\nhttps://t.co/dYj7iECm3i\\n\\n#TorneoBetano #Gobetaverse #gamblingX #prizepicks #gamblingtwitter\",\n",
       " \"@Chicago1Ray @dbongino Tucker's a smart guy, but he's whiffed more than a few things lately...Bongino will be fine no matter what happens - and yeah I would take bets on that.\",\n",
       " '@YtfhR6 How many of these bets do u do before u win big usually',\n",
       " 'Timing moves right in crypto can turn small bets into solid wins over time',\n",
       " '🚨 Upset incoming. Bet free picks now!: Phoenix Suns 🏀 Atlanta Hawks\\n\\nLet Our NBA Summer League Picks Lead You to Victory!\\n\\nNo blind bets, sign up free! 👀\\nhttps://t.co/dYj7iECm3i…\\n\\n#NBA #Gobetaverse #gamblingX #prizepicks #gamblingtwitter #fanduel #dfs',\n",
       " '🚨 Upset incoming. Bet free picks now!: Phoenix Suns 🏀 Atlanta Hawks\\n\\nLet Our NBA Summer League Picks Lead You to Victory!\\n\\nNo blind bets, sign up free! 👀\\nhttps://t.co/847a2hr3n6\\n\\n#NBA #Gobetaverse #gamblingX #prizepicks #gamblingtwitter #fanduel #dfs',\n",
       " \"🔒 Smart money. Bet free picks now!: Independiente Rivadavia ⚽ Newell's Old Boys\\n\\nStop Guessing. Start Winning Liga Profesional Bets!\\n\\nYour edge is free, sign up now! 🚀\\nCLICK THE LINK 👇🏾https://t.co/847a2hr3n6\\n\\n#TorneoBetano #Gobetaverse #gamblingX #prizepicks #gamblingtwitter\",\n",
       " '@BreannaMorello Taking bets on how long before she gets Epstein-ed lol',\n",
       " \"Over $1600 in profit over 8 #UFC bets. All given out for free!🤑\\nDon't ever disrespect our goat 💪🐐\\nCheck us out @DubClub_win https://t.co/lCoaQG33DO\",\n",
       " \"@FanJDVance I'd loudly and patiently pull up, and when they tried to jump on MY car - all bets are OFF! Time for TEXAS Road Kill...\",\n",
       " '@BEANOS_BETS Damn you dnt be putting this in the telegram dry be paying for it',\n",
       " \"@phoenixaerglo @chriss_picks Strikeout... We couldn't find any bets on the slip. Try Gambly chat to find similar bets.\",\n",
       " \"🔒 Smart money. Bet free picks now!: Independiente Rivadavia ⚽ Newell's Old Boys\\n\\nStop Guessing. Start Winning Liga Profesional Bets!\\n\\nYour edge is free, sign up now! 🚀\\nhttps://t.co/7y2ruOSkjm\\n\\n#TorneoBetano #Gobetaverse #gamblingX #prizepicks #gamblingtwitter\",\n",
       " '🚨 Upset incoming. Bet free picks now!: Phoenix Suns 🏀 Atlanta Hawks\\n\\nLet Our NBA Summer League Picks Lead You to Victory!\\n\\nNo blind bets, sign up free! 👀\\nhttps://t.co/AZ7kDX0BNJ\\n\\n#NBA #Gobetaverse #gamblingX #prizepicks #gamblingtwitter #fanduel #dfs',\n",
       " 'The UFC is live in Nashville this Saturday! 🔥🥊 Who are you backing? Check out our expert predictions and best bets for the big event. Let’s hear your picks! 💬👇 #UFC #FightNight #MMA #BettingTips',\n",
       " '💪 Bankroll this bet. Free picks here!: Milwaukee Bucks 🏀 L.A. Clippers\\n\\nJoin the NBA Summer League Betting Elite!\\n\\nSmart bets start here, sign up! 🔥\\nCLICK ON THE LINK 👇🏾https://t.co/847a2hr3n6\\n\\n#NBA #Gobetaverse #gamblingX #prizepicks #gamblingtwitter #fanduel #dfs',\n",
       " '@EricCLFung @yugalabs @BoredApeYC @apecoin @ApeChainHUB True, right now the focus is on APECOIN utility but ApeChain feels like the bigger unlock. Once NFTs get native support, all bets are off.',\n",
       " '💪 Bankroll this bet. Free picks here!: Milwaukee Bucks 🏀 L.A. Clippers\\n\\nJoin the NBA Summer League Betting Elite!\\n\\nSmart bets start here, sign up! 🔥\\nhttps://t.co/Nl4xgOul3t…\\n\\n#NBA #Gobetaverse #gamblingX #prizepicks #gamblingtwitter #fanduel #dfs',\n",
       " '@abcnews taking bets on how long it stays open, before it shuts down, due taking on bad credit or just plain stealing\\n\\nremember, we taxpayers fully fund this, not the \"residents\" https://t.co/GSZQwaIwbt',\n",
       " '📈 Underdog surging. Bet free picks!: Golden State Warriors 🏀 Utah Jazz\\n\\nMake Your NBA Summer League Bets Count with Us!\\n\\nEasy wins today, register for free! 🎉\\nhttps://t.co/AZ7kDX0BNJ\\n\\n#NBA #Gobetaverse #gamblingX #prizepicks #gamblingtwitter #fanduel',\n",
       " \"If you are looking where to place your bets in the crypto cycle. Your first step isn't thinking where to place those bets. It's finding who to place the bets with.\\n\\nWars are won with a solid army. @DeadKingSociety is a place where insights are shared. And success is made together\",\n",
       " '💪 Bankroll this bet. Free picks here!: Milwaukee Bucks 🏀 L.A. Clippers\\n\\nJoin the NBA Summer League Betting Elite!\\n\\nSmart bets start here, sign up! 🔥\\nhttps://t.co/AZ7kDX03Yb\\n\\n#NBA #Gobetaverse #gamblingX #prizepicks #gamblingtwitter #fanduel #dfs',\n",
       " 'Love this take. \\n\\nA true bull market would look like this for months. \\n\\nPlace the right bets, take some profits and keep buying dips. https://t.co/cNWwgaYhaf',\n",
       " 'Chatgpt is picking all my bets for the next 30 days\\n\\nI will be tracking profit/loss - Day 1 ⬇️ https://t.co/jk3lqguaeM',\n",
       " '@don_mulberry Love it Boji! And you are very welcome 🙏 I have made it my mission to watch racing as my next sport. It’s on my list. Feel free to send bets for me to tail in the meantime!',\n",
       " '@AskPerplexity @ChuckHodl @ryancohen Once GameStop has enough Bitcoin in the reserve they can then supply Bitcoin bonds for the US government to issue as official collateral to cover future bets correct? It’s all about the gold in the basement',\n",
       " 'We don’t want your tips. We want your details.\\n(So we can pay you.)\\nNo bets. No risk. Just easy money.',\n",
       " '@skinclub_cases Free cases or free disappointment? Place your bets.',\n",
       " 'The system made me an underdog. Ignored. Counted out.\\n\\nGood. I’ll wear it with pride. I don’t need hype—I need pressure.\\n\\nBets are open:\\nUnderdog (+1M)\\nTop Dog (–1M)\\n\\nMake your choice!\\n\\n#UNDERDOG',\n",
       " '@BreannaMorello PSA: Unfortunately all of your bets will be null and void no matter the outcome! \\nThe evidence will have gone through 3 agencies and 100 sets of hands before it is deemed inconclusive and irrelevant by the investigating parties 🎉 🥴',\n",
       " 'Imagine you go in a casino and you gotta play mw2 with a lobby of random casino goers and they place bets on you.',\n",
       " '@GfhsfghSfh81636 @lumen7jay @TheSeanEsposito If folks are ok with that kind of inconsistency and scripture contradicting scripture then all bets are off and honestly nothing can be taken seriously in scripture at all.',\n",
       " '🏒❄️ 𝗜𝗖𝗘 𝗛𝗢𝗖𝗞𝗘𝗬 𝗟𝗼𝘃𝗲𝗿𝘀, 𝗔𝘀𝘀𝗲𝗺𝗯𝗹𝗲!\\n\\n🔥 𝘼𝙗 𝙋𝙞𝙣𝙠𝙮 𝙠𝙚 𝙨𝙖𝙖𝙩𝙝 𝙘𝙝𝙖𝙡𝙖𝙮𝙚𝙜𝙖 𝙥𝙪𝙘𝙠, 𝙖𝙪𝙧 𝙟𝙚𝙚𝙩𝙚𝙜𝙖 𝙡𝙪𝙘𝙠! 💸🥵\\n\\n🎮 𝗣𝗹𝗮𝘆 𝗜𝗖𝗘 𝗛𝗢𝗖𝗞𝗘𝗬 𝗼𝗻𝗹𝘆 𝗼𝗻 https://t.co/0yl4uz1hmF\\n⚡ 6000+ Games | LIVE bets | INSTANT w!n\\n\\n💰 https://t.co/tdDWYpsTHq',\n",
       " \"@janecollins865 @BaddCompani Makes sense that this whole Epstein Files in the news all week.\\n\\nAny bets either SCOTUS\\nlet's her off or lessens her sentence and or Trump pardons her ?\",\n",
       " '@suedoII 😭 girl at least the fans faked it till the end and did their best to PR their way through. ppl were forbidding e/o from talking shit abt until the votes were finalized, after that all bets were off',\n",
       " 'Get down to business, July inakupelekaje? Tuko na 10 Milli in Free Bets Aviator Challenge, also PREDICT the 3 #SportPesaGoalRush Games for FREE, ushinde 10 million!\\n https://t.co/86sY20Ihgn',\n",
       " '@BreannaMorello Alright folks!! I’m taking bets! \\nMakes it through the night -500\\nSees tomorrow +250\\nAll bets must be in by 11pm!! 🕚 \\nThings get a little fuzzy afterwards! \\nAlso! -100 on the cameras not working \\n😬',\n",
       " 'I need to start placing bets.',\n",
       " 'Joe public nonchalantly posting about bets on sports that are -200(any - ml for that matter)&amp; worse has me smh every single time. Makes me want to be a bookmaker not just a bettoe. @AdamBjorn2 has it right. 👏',\n",
       " '@justthatbre You didn’t tell a single lie!!! They didn’t want to split the black vote &amp; they thought Chellace fans was gonna vote for their production forced couple &amp; WE DIDNT😂 I already got my bets on when these couples gonna release they joint statements lol',\n",
       " '@SarahisCensored How long before the story disappears?   \\n\\nPlace your bets.\\n\\nMe; It already has.',\n",
       " \"Asset allocation and sectoral bets for the next 5 years: Investment\\ninsights from Sapient ...\\nBusiness Today\\nQ: In today's uncertain mark... https://t.co/bqg0AYoP2B\",\n",
       " '@DiamondNutsGuy $LUX Bets 🎰',\n",
       " '250713 BeTS Hybe Cine Fest 🧡\\n\\nSeungkwan Style~~ Making sure everyone jumps 😗\\n\\n#ByCaratdeulMain https://t.co/OVHgArwCzf']"
      ]
     },
     "execution_count": 7,
     "metadata": {},
     "output_type": "execute_result"
    }
   ],
   "source": [
    "dado"
   ]
  }
 ],
 "metadata": {
  "kernelspec": {
   "display_name": "Python 3",
   "language": "python",
   "name": "python3"
  },
  "language_info": {
   "codemirror_mode": {
    "name": "ipython",
    "version": 3
   },
   "file_extension": ".py",
   "mimetype": "text/x-python",
   "name": "python",
   "nbconvert_exporter": "python",
   "pygments_lexer": "ipython3",
   "version": "3.12.10"
  }
 },
 "nbformat": 4,
 "nbformat_minor": 5
}
